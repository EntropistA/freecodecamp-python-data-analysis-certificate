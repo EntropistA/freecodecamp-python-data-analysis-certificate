{
 "cells": [
  {
   "cell_type": "code",
   "execution_count": null,
   "metadata": {
    "collapsed": true,
    "pycharm": {
     "name": "#%%\n"
    }
   },
   "outputs": [],
   "source": [
    "import pandas as pd\n",
    "import matplotlib.pyplot as plt\n",
    "from scipy.stats import linregress\n",
    "\n",
    "def draw_plot():\n",
    "    # Read data from file\n",
    "\n",
    "\n",
    "    # Create scatter plot\n",
    "\n",
    "\n",
    "    # Create first line of best fit\n",
    "\n",
    "\n",
    "    # Create second line of best fit\n",
    "\n",
    "\n",
    "    # Add labels and title\n",
    "\n",
    "\n",
    "    # Save plot and return data for testing (DO NOT MODIFY)\n",
    "    plt.savefig('sea_level_plot.png')\n",
    "    return plt.gca()"
   ]
  }
 ],
 "metadata": {
  "kernelspec": {
   "display_name": "Python 3",
   "language": "python",
   "name": "python3"
  },
  "language_info": {
   "codemirror_mode": {
    "name": "ipython",
    "version": 2
   },
   "file_extension": ".py",
   "mimetype": "text/x-python",
   "name": "python",
   "nbconvert_exporter": "python",
   "pygments_lexer": "ipython2",
   "version": "2.7.6"
  }
 },
 "nbformat": 4,
 "nbformat_minor": 0
}