{
 "cells": [
  {
   "cell_type": "code",
   "execution_count": 1,
   "outputs": [
    {
     "name": "stdout",
     "output_type": "stream",
     "text": [
      "o\n",
      "Number of each race:\n",
      " 32561\n",
      "Average age of men: 39.43354749885268\n",
      "Percentage with Bachelors degrees: 16.44605509658794%\n",
      "Percentage with higher education that earn >50K: 10.706059396210192%\n",
      "Percentage without higher education that earn >50K: 13.374896348392248%\n",
      "Min work time: 1 hours/week\n",
      "Percentage of rich among those who work fewest hours: 10.0%\n",
      "Country with highest percentage of rich: Iran\n",
      "Highest percentage of rich people in country: 0.4186046511627907%\n",
      "Top occupations in India: Prof-specialty\n"
     ]
    },
    {
     "data": {
      "text/plain": "{'race_count': 32561,\n 'average_age_men': 39.43354749885268,\n 'percentage_bachelors': 16.44605509658794,\n 'higher_education_rich': 10.706059396210192,\n 'lower_education_rich': 13.374896348392248,\n 'min_work_hours': 1,\n 'rich_percentage': 10.0,\n 'highest_earning_country': 'Iran',\n 'highest_earning_country_percentage': 0.4186046511627907,\n 'top_IN_occupation': 'Prof-specialty'}"
     },
     "execution_count": 1,
     "metadata": {},
     "output_type": "execute_result"
    }
   ],
   "source": [
    "import pandas as pd\n",
    "\n",
    "print(\"o\")\n",
    "\n",
    "def calculate_demographic_data(print_data=True):\n",
    "    # Read data from file\n",
    "    df = pd.read_csv(\"./data/adult.data.csv\")\n",
    "\n",
    "    # How many of each race are represented in this dataset? This should be a Pandas series with race names as the index labels.\n",
    "    race_count = df[\"race\"].count()\n",
    "\n",
    "    # What is the average age of men?\n",
    "    average_age_men = df[df[\"sex\"] == \"Male\"][\"age\"].mean()\n",
    "\n",
    "    # What is the percentage of people who have a Bachelor's degree?\n",
    "    percentage_bachelors = df[df[\"education\"] == \"Bachelors\"].shape[0] / df.shape[0] * 100\n",
    "\n",
    "    # What percentage of people with advanced education (`Bachelors`, `Masters`, or `Doctorate`) make more than 50K?\n",
    "    # What percentage of people without advanced education make more than 50K?\n",
    "\n",
    "    # with and without `Bachelors`, `Masters`, or `Doctorate`\n",
    "    higher_education = df[\"education\"].isin((\"Bachelors\", \"Masters\", \"Doctorate\"))\n",
    "    lower_education = ~higher_education\n",
    "\n",
    "    # percentage with salary >50K\n",
    "    salary_bigger_than_50K = df[\"salary\"] == \">50K\"\n",
    "\n",
    "    higher_education_rich = df[higher_education & salary_bigger_than_50K].shape[0] / df.shape[0] * 100\n",
    "    lower_education_rich = df[lower_education & salary_bigger_than_50K].shape[0] / df.shape[0] * 100\n",
    "\n",
    "    # What is the minimum number of hours a person works per week (hours-per-week feature)?\n",
    "    min_work_hours = df[\"hours-per-week\"].min()\n",
    "\n",
    "    # What percentage of the people who work the minimum number of hours per week have a salary of >50K?\n",
    "    work_hours_min = df[\"hours-per-week\"] == min_work_hours\n",
    "\n",
    "    rich_percentage = df[work_hours_min & salary_bigger_than_50K].shape[0] / df[work_hours_min].shape[0] * 100\n",
    "\n",
    "    # What country has the highest percentage of people that earn >50K?\n",
    "    percentages = df[salary_bigger_than_50K].groupby([\"native-country\"])[\"age\"].count() / df.groupby([\"native-country\"])[\"age\"].count()\n",
    "    highest_earning_country_percentage = percentages.max()\n",
    "    highest_earning_country = percentages.idxmax()\n",
    "\n",
    "    # Identify the most popular occupation for those who earn >50K in India.\n",
    "    top_IN_occupation = df[(df[\"native-country\"] == \"India\") & salary_bigger_than_50K][\"occupation\"].mode().values[0]\n",
    "\n",
    "    # DO NOT MODIFY BELOW THIS LINE\n",
    "\n",
    "    if print_data:\n",
    "        print(\"Number of each race:\\n\", race_count)\n",
    "        print(\"Average age of men:\", average_age_men)\n",
    "        print(f\"Percentage with Bachelors degrees: {percentage_bachelors}%\")\n",
    "        print(f\"Percentage with higher education that earn >50K: {higher_education_rich}%\")\n",
    "        print(f\"Percentage without higher education that earn >50K: {lower_education_rich}%\")\n",
    "        print(f\"Min work time: {min_work_hours} hours/week\")\n",
    "        print(f\"Percentage of rich among those who work fewest hours: {rich_percentage}%\")\n",
    "        print(\"Country with highest percentage of rich:\", highest_earning_country)\n",
    "        print(f\"Highest percentage of rich people in country: {highest_earning_country_percentage}%\")\n",
    "        print(\"Top occupations in India:\", top_IN_occupation)\n",
    "\n",
    "    return {\n",
    "        'race_count': race_count,\n",
    "        'average_age_men': average_age_men,\n",
    "        'percentage_bachelors': percentage_bachelors,\n",
    "        'higher_education_rich': higher_education_rich,\n",
    "        'lower_education_rich': lower_education_rich,\n",
    "        'min_work_hours': min_work_hours,\n",
    "        'rich_percentage': rich_percentage,\n",
    "        'highest_earning_country': highest_earning_country,\n",
    "        'highest_earning_country_percentage':\n",
    "            highest_earning_country_percentage,\n",
    "        'top_IN_occupation': top_IN_occupation\n",
    "    }\n",
    "\n",
    "\n",
    "calculate_demographic_data(print_data=True)"
   ],
   "metadata": {
    "collapsed": false,
    "pycharm": {
     "name": "#%%\n"
    }
   }
  },
  {
   "cell_type": "code",
   "execution_count": null,
   "outputs": [],
   "source": [],
   "metadata": {
    "collapsed": false,
    "pycharm": {
     "name": "#%%\n"
    }
   }
  }
 ],
 "metadata": {
  "kernelspec": {
   "display_name": "Python 3",
   "language": "python",
   "name": "python3"
  },
  "language_info": {
   "codemirror_mode": {
    "name": "ipython",
    "version": 2
   },
   "file_extension": ".py",
   "mimetype": "text/x-python",
   "name": "python",
   "nbconvert_exporter": "python",
   "pygments_lexer": "ipython2",
   "version": "2.7.6"
  }
 },
 "nbformat": 4,
 "nbformat_minor": 0
}